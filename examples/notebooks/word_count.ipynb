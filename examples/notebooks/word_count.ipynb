{
 "cells": [
  {
   "cell_type": "code",
   "execution_count": 1,
   "metadata": {
    "collapsed": false
   },
   "outputs": [],
   "source": [
    "var SparkContext = require('eclairjs/SparkContext');\n",
    "var sc = new SparkContext(\"local[*]\", \"JavaScript word count\");\n"
   ]
  },
  {
   "cell_type": "code",
   "execution_count": 2,
   "metadata": {
    "collapsed": false
   },
   "outputs": [
    {
     "data": {
      "text/plain": [
       "119"
      ]
     },
     "execution_count": 2,
     "metadata": {},
     "output_type": "execute_result"
    }
   ],
   "source": [
    "var file = \"../data/dream.txt\";\n",
    "\n",
    "var rdd = sc.textFile(file).cache();\n",
    "rdd.count();\n"
   ]
  },
  {
   "cell_type": "code",
   "execution_count": 3,
   "metadata": {
    "collapsed": true
   },
   "outputs": [],
   "source": [
    "\n",
    "var rdd2 = rdd.flatMap(function(sentence) {\n",
    "    return sentence.split(\" \");\n",
    "});\n"
   ]
  },
  {
   "cell_type": "code",
   "execution_count": 4,
   "metadata": {
    "collapsed": true
   },
   "outputs": [],
   "source": [
    "var rdd3 = rdd2.filter(function(word) {\n",
    "    return word.trim().length > 0;\n",
    "});\n"
   ]
  },
  {
   "cell_type": "code",
   "execution_count": 5,
   "metadata": {
    "collapsed": true
   },
   "outputs": [],
   "source": [
    "var rdd4 = rdd3.mapToPair(function(word) {\n",
    "    var Tuple2 = require('eclairjs/Tuple2');\n",
    "    return new Tuple2(word, 1);\n",
    "});\n"
   ]
  },
  {
   "cell_type": "code",
   "execution_count": 6,
   "metadata": {
    "collapsed": false
   },
   "outputs": [],
   "source": [
    "var rdd5 = rdd4.reduceByKey(function(a, b) {\n",
    "    return a + b;\n",
    "});\n"
   ]
  },
  {
   "cell_type": "code",
   "execution_count": 9,
   "metadata": {
    "collapsed": false
   },
   "outputs": [],
   "source": [
    "var rdd6 = rdd5.mapToPair(function(tuple) {\n",
    "    Tuple2 = require('eclairjs/Tuple2');\n",
    "    return new Tuple2(tuple._2()+0.0, tuple._1());\n",
    "})\n"
   ]
  },
  {
   "cell_type": "code",
   "execution_count": 8,
   "metadata": {
    "collapsed": false
   },
   "outputs": [
    {
     "data": {
      "text/plain": [
       "[{\"0\":0,\"1\":null,\"length\":2},{\"0\":0,\"1\":null,\"length\":2},{\"0\":0,\"1\":null,\"length\":2},{\"0\":0,\"1\":null,\"length\":2},{\"0\":0,\"1\":null,\"length\":2},{\"0\":0,\"1\":null,\"length\":2},{\"0\":0,\"1\":null,\"length\":2},{\"0\":0,\"1\":null,\"length\":2},{\"0\":0,\"1\":null,\"length\":2},{\"0\":0,\"1\":null,\"length\":2}]"
      ]
     },
     "execution_count": 8,
     "metadata": {},
     "output_type": "execute_result"
    }
   ],
   "source": [
    "var rdd7 = rdd6.sortByKey(false);\n",
    "JSON.stringify(rdd7.take(10))"
   ]
  },
  {
   "cell_type": "code",
   "execution_count": null,
   "metadata": {
    "collapsed": true
   },
   "outputs": [],
   "source": []
  }
 ],
 "metadata": {
  "kernelspec": {
   "display_name": "Spark 1.6.0 (EclairJS)",
   "language": "javascript",
   "name": "eclairjs"
  },
  "language_info": {
   "name": "scala"
  }
 },
 "nbformat": 4,
 "nbformat_minor": 0
}
