{
 "cells": [
  {
   "cell_type": "code",
   "execution_count": 1,
   "metadata": {
    "collapsed": true
   },
   "outputs": [],
   "source": [
    "\n",
    "var sparkConf = new SparkConf().setAppName(\"JavaScriptSparkSQL\").setMaster(\"local[*]\");\n",
    "var ctx = new SparkContext(sparkConf);\n",
    "var sqlContext = new SQLContext(ctx);"
   ]
  },
  {
   "cell_type": "code",
   "execution_count": 2,
   "metadata": {
    "collapsed": true
   },
   "outputs": [],
   "source": [
    "// Load a text file and convert each line to a JavaScript Object.\n",
    "var people = ctx.textFile(\"./data/people.txt\").map(function(line) {\n",
    "\tvar parts = line.split(\",\");\n",
    "\treturn person = {\n",
    "    \t\t\t\tname: parts[0], \n",
    "    \t\t\t\tage: parseInt(parts[1].trim())\n",
    "    \t\t};\n",
    "});\n"
   ]
  },
  {
   "cell_type": "code",
   "execution_count": 3,
   "metadata": {
    "collapsed": false
   },
   "outputs": [
    {
     "data": {
      "text/plain": [
       "2"
      ]
     },
     "execution_count": 3,
     "metadata": {},
     "output_type": "execute_result"
    }
   ],
   "source": [
    "\n",
    "//Generate the schema\n",
    "var fields = [];\n",
    "fields.push(DataTypes.createStructField(\"name\", DataTypes.StringType, true));\n",
    "fields.push(DataTypes.createStructField(\"age\", DataTypes.IntegerType, true));\n",
    "var schema = DataTypes.createStructType(fields);\n"
   ]
  },
  {
   "cell_type": "code",
   "execution_count": 4,
   "metadata": {
    "collapsed": true
   },
   "outputs": [],
   "source": [
    "// Convert records of the RDD (people) to Rows.\n",
    "var rowRDD = people.map(function(person){\n",
    "\treturn RowFactory.create([person.name, person.age]);\n",
    "});\n",
    "\n"
   ]
  },
  {
   "cell_type": "code",
   "execution_count": 5,
   "metadata": {
    "collapsed": true
   },
   "outputs": [],
   "source": [
    "\n",
    "//Apply the schema to the RDD.\n",
    "var peopleDataFrame = sqlContext.createDataFrame(rowRDD, schema);\n",
    "\n",
    "// Register the DataFrame as a table.\n",
    "peopleDataFrame.registerTempTable(\"people\");\n"
   ]
  },
  {
   "cell_type": "code",
   "execution_count": 10,
   "metadata": {
    "collapsed": false
   },
   "outputs": [
    {
     "data": {
      "text/plain": [
       "[\"Name: Michael\",\"Name: Andy\",\"Name: Justin\"]"
      ]
     },
     "execution_count": 10,
     "metadata": {},
     "output_type": "execute_result"
    }
   ],
   "source": [
    "// SQL can be run over RDDs that have been registered as tables.\n",
    "var results = sqlContext.sql(\"SELECT name FROM people\");\n",
    "\n",
    "//The results of SQL queries are DataFrames and support all the normal RDD operations.\n",
    "//The columns of a row in the result can be accessed by ordinal.\n",
    "var names = results.toRDD().map(function(row) {\n",
    "\treturn \"Name: \" + row.getString(0);\n",
    "});\n",
    "\n",
    "JSON.stringify(names.take(10))"
   ]
  },
  {
   "cell_type": "code",
   "execution_count": null,
   "metadata": {
    "collapsed": true
   },
   "outputs": [],
   "source": []
  }
 ],
 "metadata": {
  "kernelspec": {
   "display_name": "Spark 1.4.1 (Javascript)",
   "language": "javascript",
   "name": "eclair"
  },
  "language_info": {
   "name": "scala"
  }
 },
 "nbformat": 4,
 "nbformat_minor": 0
}
