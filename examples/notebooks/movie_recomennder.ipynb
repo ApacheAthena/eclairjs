{
 "cells": [
  {
   "cell_type": "markdown",
   "metadata": {},
   "source": [
    "# Movie ranking example\n",
    "this example is a EclairJS (JavaScript) implementation of [movie recommending](https://github.com/jadianes/spark-movie-lens/blob/master/notebooks/building-recommender.ipynb)"
   ]
  },
  {
   "cell_type": "markdown",
   "metadata": {},
   "source": [
    "## Create the spark context and globals"
   ]
  },
  {
   "cell_type": "code",
   "execution_count": 1,
   "metadata": {
    "collapsed": false
   },
   "outputs": [],
   "source": [
    "var SparkContext = require('eclairjs/SparkContext');\n",
    "var sc = new SparkContext(\"local[*]\", \"myapp\");\n",
    "\n",
    "var Tuple2 = require('eclairjs/Tuple2');\n",
    "var Tuple3 = require('eclairjs/Tuple3');\n",
    "var List = require('eclairjs/List');\n",
    "var ALS = require('eclairjs/mllib/recommendation/ALS');\n",
    "var Rating = require('eclairjs/mllib/recommendation/Rating');\n",
    "\n"
   ]
  },
  {
   "cell_type": "markdown",
   "metadata": {},
   "source": [
    "## load the small rating dataset"
   ]
  },
  {
   "cell_type": "code",
   "execution_count": 2,
   "metadata": {
    "collapsed": false
   },
   "outputs": [
    {
     "data": {
      "text/plain": [
       "[\"{Rating: [1,16,4]}\",\"{Rating: [1,24,1.5]}\",\"{Rating: [1,32,4]}\"]"
      ]
     },
     "execution_count": 2,
     "metadata": {},
     "output_type": "execute_result"
    }
   ],
   "source": [
    "var small_ratings_raw_data = sc.textFile('../data/mllib/ml-latest-small/ratings.csv');\n",
    "var small_ratings_raw_data_header = small_ratings_raw_data.take(1)[0];\n",
    "var small_ratings_data = small_ratings_raw_data.filter(function(line, small_ratings_raw_data_header) {\n",
    "    // filters out the header\n",
    "    return line != small_ratings_raw_data_header;\n",
    "}, [small_ratings_raw_data_header])\n",
    ".map(function(line) {\n",
    "    return line.split(\",\");\n",
    "})\n",
    ".map(function(tokens, Rating) {\n",
    "    // tokenes are userId,movieId,rating,timestamp\n",
    "    return new Rating(tokens[0],tokens[1],tokens[2]);\n",
    "}, [Rating]).cache()\n",
    "JSON.stringify(small_ratings_data.take(3));"
   ]
  },
  {
   "cell_type": "markdown",
   "metadata": {},
   "source": [
    "## load the small moving dataset"
   ]
  },
  {
   "cell_type": "code",
   "execution_count": 3,
   "metadata": {
    "collapsed": false
   },
   "outputs": [
    {
     "data": {
      "text/plain": [
       "[{\"0\":1,\"1\":\"Toy Story (1995)\",\"length\":2},{\"0\":2,\"1\":\"Jumanji (1995)\",\"length\":2},{\"0\":3,\"1\":\"Grumpier Old Men (1995)\",\"length\":2}]"
      ]
     },
     "execution_count": 3,
     "metadata": {},
     "output_type": "execute_result"
    }
   ],
   "source": [
    "var small_movies_raw_data = sc.textFile('../data/mllib/ml-latest-small/movies.csv');\n",
    "var small_movies_raw_data_header = small_movies_raw_data.take(1)[0];\n",
    "var small_movies_data = small_movies_raw_data.filter(function(line, small_movies_raw_data_header) {\n",
    "        // filters out the header\n",
    "        return line != small_movies_raw_data_header;\n",
    "    }, [small_movies_raw_data_header])\n",
    "\n",
    "    .map(function(line, Tuple2) {\n",
    "        var fields = line.split(\",\");\n",
    "        return new Tuple2(parseInt(fields[0]), fields[1]);\n",
    "\n",
    "    }, [Tuple2]).cache();\n",
    "\n",
    "var small_movies_titles = small_movies_data.mapToPair(\n",
    "    function( tuple2, Tuple2) { // Tuple2\n",
    "        return new Tuple2(tuple2[0], tuple2[1]);\n",
    "\n",
    "    }, [Tuple2]);\n",
    "JSON.stringify(small_movies_data.take(3));"
   ]
  },
  {
   "cell_type": "markdown",
   "metadata": {},
   "source": [
    "## Selecting ALS parameters using the small dataset\n",
    "In order to determine the best ALS parameters, we will use the small dataset. We need first to split it into train, validation, and test datasets."
   ]
  },
  {
   "cell_type": "code",
   "execution_count": 5,
   "metadata": {
    "collapsed": false
   },
   "outputs": [
    {
     "data": {
      "text/plain": [
       "[{\"0\":1,\"1\":50,\"length\":2},{\"0\":1,\"1\":161,\"length\":2},{\"0\":1,\"1\":356,\"length\":2}]"
      ]
     },
     "execution_count": 5,
     "metadata": {},
     "output_type": "execute_result"
    }
   ],
   "source": [
    "var seed = 0;\n",
    "var split = small_ratings_data.randomSplit([0.6, 0.2, 0.2], seed)\n",
    "var training_RDD = split[0];\n",
    "var validation_RDD = split[1];\n",
    "var test_RDD = split[2];\n",
    "\n",
    "var  validation_for_predict_RDD = validation_RDD.map(function(rating, Tuple2) {\n",
    "        return new Tuple2(rating.user(), rating.product());\n",
    "\n",
    "}, [Tuple2]);\n",
    "JSON.stringify(validation_for_predict_RDD.take(3));"
   ]
  },
  {
   "cell_type": "code",
   "execution_count": 6,
   "metadata": {
    "collapsed": false
   },
   "outputs": [
    {
     "data": {
      "text/plain": [
       "[{\"0\":1,\"1\":16,\"length\":2},{\"0\":1,\"1\":47,\"length\":2},{\"0\":1,\"1\":110,\"length\":2}]"
      ]
     },
     "execution_count": 6,
     "metadata": {},
     "output_type": "execute_result"
    }
   ],
   "source": [
    "var test_for_predict_RDD = test_RDD.map(function(rating, Tuple2) {\n",
    "        return new Tuple2(rating.user(), rating.product());\n",
    "\n",
    "}, [Tuple2]);\n",
    "\n",
    "JSON.stringify(test_for_predict_RDD.take(3));"
   ]
  },
  {
   "cell_type": "markdown",
   "metadata": {},
   "source": [
    "## Proceed with the training phase."
   ]
  },
  {
   "cell_type": "code",
   "execution_count": 7,
   "metadata": {
    "collapsed": false
   },
   "outputs": [
    {
     "name": "stdout",
     "output_type": "stream",
     "text": [
      "[Stage 491:>                                                        (0 + 8) / 8]"
     ]
    },
    {
     "data": {
      "text/plain": [
       "The best model was trained with rank 4"
      ]
     },
     "execution_count": 7,
     "metadata": {},
     "output_type": "execute_result"
    }
   ],
   "source": [
    "seed = 5\n",
    "var iterations = 10\n",
    "var regularization_parameter = 0.1\n",
    "var ranks = [4, 8, 12];\n",
    "var errors = [0, 0, 0];\n",
    "var err = 0\n",
    "var tolerance = 0.02\n",
    "\n",
    "var min_error = Number.POSITIVE_INFINITY\n",
    "var best_rank = -1\n",
    "var best_iteration = -1\n",
    "var blocks = -1;\n",
    "var lambda = regularization_parameter;\n",
    "\n",
    "ranks.forEach(function(rank) {\n",
    "    var model = ALS.train(training_RDD, rank, iterations, regularization_parameter, blocks, seed);\n",
    "    var predictions = model.predict(validation_for_predict_RDD)\n",
    "        .mapToPair(function(rating, Tuple2) {\n",
    "            return new Tuple2(new Tuple2(rating.user(), rating.product()), rating.rating());\n",
    "        }, [Tuple2]\n",
    "    );\n",
    "\n",
    "    var rates_and_preds = validation_RDD.mapToPair( function(rating, Tuple2) {\n",
    "            return new Tuple2(new Tuple2(rating.user(), rating.product()), rating.rating());\n",
    "\n",
    "    }, [Tuple2])\n",
    "    .join(predictions);\n",
    "\n",
    "    var t = rates_and_preds.mapToFloat(function(tuple) {\n",
    "            // Rating object\n",
    "            var x1 = tuple._1(); // Tuple2\n",
    "            var x2 = tuple._2(); // Tuple2\n",
    "            var a =  x2._1();\n",
    "            var y =x2._1() - x2._2(); // ([1][0] - r[1][1])**2\n",
    "            return Math.pow(y, 2);\n",
    "\n",
    "    });\n",
    "    var error = Math.sqrt(t.mean());\n",
    "    errors[err] = error;\n",
    "    err += 1;\n",
    "    if (error < min_error) {\n",
    "        min_error = error;\n",
    "        best_rank = rank;\n",
    "    }\n",
    "\n",
    "});\n",
    "\n",
    "\"The best model was trained with rank \" +best_rank;"
   ]
  },
  {
   "cell_type": "markdown",
   "metadata": {},
   "source": [
    "## To build our recommender model, we will use the complete dataset."
   ]
  },
  {
   "cell_type": "code",
   "execution_count": 8,
   "metadata": {
    "collapsed": false
   },
   "outputs": [
    {
     "name": "stdout",
     "output_type": "stream",
     "text": [
      "\r",
      "[Stage 493:>                                                        (0 + 2) / 2]"
     ]
    },
    {
     "data": {
      "text/plain": [
       "\"There are recommendations in the complete dataset:  105339\""
      ]
     },
     "execution_count": 8,
     "metadata": {},
     "output_type": "execute_result"
    }
   ],
   "source": [
    "\n",
    "var complete_ratings_raw_data = \n",
    "    sc.textFile(\"../data/mllib/ml-latest-small/ratings.csv\");\n",
    "var complete_ratings_raw_data_header = complete_ratings_raw_data.take(1)[0];\n",
    "\n",
    "var complete_ratings_data = complete_ratings_raw_data.filter(function (line, complete_ratings_raw_data_header) {\n",
    "    return line != complete_ratings_raw_data_header;\n",
    "}, [complete_ratings_raw_data_header])\n",
    ".map(function( line, Rating) {\n",
    "    var fields = line.split(\",\");\n",
    "    var userId = parseInt(fields[0]);\n",
    "    var movieId = parseInt(fields[1]);\n",
    "    var rating = parseFloat(fields[2]);\n",
    "    return new Rating(userId, movieId, rating);\n",
    "\n",
    "}, [Rating])\n",
    ".cache();\n",
    "\n",
    "JSON.stringify(\"There are recommendations in the complete dataset:  \" + complete_ratings_data.count());"
   ]
  },
  {
   "cell_type": "markdown",
   "metadata": {},
   "source": [
    "## We test on our testing set."
   ]
  },
  {
   "cell_type": "code",
   "execution_count": 9,
   "metadata": {
    "collapsed": false
   },
   "outputs": [
    {
     "name": "stdout",
     "output_type": "stream",
     "text": [
      "[Stage 655:>                                                        (0 + 8) / 8]"
     ]
    },
    {
     "data": {
      "text/plain": [
       "\"For testing data the RMSE is 0.9066538818812506\""
      ]
     },
     "execution_count": 9,
     "metadata": {},
     "output_type": "execute_result"
    }
   ],
   "source": [
    "var splits2 = complete_ratings_data.randomSplit([0.7, 0.3], 0);\n",
    "training_RDD = splits2[0];\n",
    "test_RDD = splits2[1];\n",
    "\n",
    "var complete_model = ALS.train(training_RDD, best_rank, iterations, regularization_parameter, blocks, seed);\n",
    "\n",
    "test_for_predict_RDD = test_RDD.map(function (rating, Tuple2) {\n",
    "        return new Tuple2(rating.user(), rating.product());\n",
    "\n",
    "}, [Tuple2]);\n",
    "\n",
    "var predictions = complete_model.predict(test_for_predict_RDD)\n",
    "    .mapToPair(function( rating, Tuple2) {\n",
    "        return new Tuple2(new Tuple2(rating.user(), rating.product()), rating.rating());\n",
    "\n",
    "    }, [Tuple2]);\n",
    "\n",
    "var rates_and_preds = test_RDD.mapToPair(function( rating, Tuple2) {\n",
    "        return new Tuple2(new Tuple2(rating.user(), rating.product()), rating.rating());\n",
    "\n",
    "}, [Tuple2])\n",
    ".join(predictions);\n",
    "\n",
    "var t = rates_and_preds.mapToFloat( function( x) {\n",
    "        // Rating object\n",
    "        /*System.out.println(\"x._1 \" + x._1);\n",
    "         System.out.println(\"x._2 \" + x._2);*/\n",
    "        var x1 = x._1();\n",
    "        var x2 = x._2();\n",
    "        var a =  x2._1();\n",
    "        var y = x2._1() - x2._2(); // ([1][0] - r[1][1])**2\n",
    "        //return new Tuple2(x.user(), x.product());\n",
    "        return Math.pow(y, 2);\n",
    "\n",
    "\n",
    "});\n",
    "var error = Math.sqrt(t.mean());\n",
    "JSON.stringify(\"For testing data the RMSE is \" + error);"
   ]
  },
  {
   "cell_type": "markdown",
   "metadata": {},
   "source": [
    "## How to make recommendations\n",
    " So let's first load the movies complete file for later use."
   ]
  },
  {
   "cell_type": "code",
   "execution_count": 10,
   "metadata": {
    "collapsed": false
   },
   "outputs": [
    {
     "name": "stdout",
     "output_type": "stream",
     "text": [
      "\r",
      "[Stage 657:>                                                        (0 + 2) / 2]"
     ]
    },
    {
     "data": {
      "text/plain": [
       "\"There are movies in the complete dataset 10329\""
      ]
     },
     "execution_count": 10,
     "metadata": {},
     "output_type": "execute_result"
    }
   ],
   "source": [
    "\n",
    "var complete_movies_raw_data = \n",
    "    sc.textFile(\"../data/mllib/ml-latest-small/movies.csv\");\n",
    "var complete_movies_raw_data_header = complete_movies_raw_data.take(1)[0];\n",
    "var complete_movies_data = complete_movies_raw_data.filter(function(line, complete_movies_raw_data_header) {\n",
    "        // filters out the header\n",
    "        return line != complete_movies_raw_data_header;\n",
    "    }, [complete_movies_raw_data_header])\n",
    "\n",
    "    .map(function(line, Tuple2) {\n",
    "        var fields = line.split(\",\");\n",
    "        return new Tuple2(parseInt(fields[0]), fields[1]);\n",
    "\n",
    "    }, [Tuple2]).cache();\n",
    "\n",
    "var complete_movies_titles = complete_movies_data.mapToPair(\n",
    "    function( tuple2, Tuple2) { // Tuple2\n",
    "        return new Tuple2(tuple2._1(), tuple2._2());\n",
    "\n",
    "    }, [Tuple2]);\n",
    "\n",
    "JSON.stringify(\"There are movies in the complete dataset \" + complete_movies_titles.count());"
   ]
  },
  {
   "cell_type": "markdown",
   "metadata": {},
   "source": [
    "## Give recommendations of movies\n",
    "Another thing we want to do, is give recommendations\n",
    " of movies with a certain minimum number of ratings. For that, we need to count the number of ratings per movie.\n",
    " "
   ]
  },
  {
   "cell_type": "code",
   "execution_count": 11,
   "metadata": {
    "collapsed": false
   },
   "outputs": [
    {
     "name": "stdout",
     "output_type": "stream",
     "text": [
      "[Stage 658:============================>                            (1 + 1) / 2]"
     ]
    },
    {
     "data": {
      "text/plain": [
       "\"movie_ID_with_avg_ratings_RDD  (1084,(45.0,3.966666666666667)),(32196,(2.0,4.0)),(1490,(1.0,0.5)),(91902,(1.0,3.0)),(68522,(1.0,5.0)),(3702,(43.0,3.5348837209302326)),(6754,(26.0,3.4423076923076925)),(68482,(1.0,2.5)),(6308,(4.0,3.0)),(91622,(3.0,3.3333333333333335))\""
      ]
     },
     "execution_count": 11,
     "metadata": {},
     "output_type": "execute_result"
    }
   ],
   "source": [
    "\n",
    "var movie_ID_with_ratings_RDD = complete_ratings_data.mapToPair(function( rating, Tuple2) {\n",
    "        return new Tuple2(rating.product(), rating.rating());\n",
    "\n",
    "}, [Tuple2])\n",
    ".groupByKey();\n",
    "\n",
    "var movie_ID_with_avg_ratings_RDD = movie_ID_with_ratings_RDD.mapToPair(function( ID_and_ratings_tuple, Tuple2) {\n",
    "\n",
    "        var w = ID_and_ratings_tuple._2();\n",
    "    var count = 0;\n",
    "    var sum = 0;\n",
    "    for (var i = 0; i < w.length; i++) {\n",
    "        var r = w[i];\n",
    "        sum += r;\n",
    "        count++;\n",
    "    }\n",
    "\n",
    "        var avgRating = sum / count;\n",
    "        return new Tuple2(ID_and_ratings_tuple._1(), new Tuple2(count, avgRating));\n",
    "\n",
    "    }, [Tuple2]);\n",
    "\n",
    "var movie_rating_counts_RDD = movie_ID_with_avg_ratings_RDD.mapToPair(function( ID_with_avg_ratings, Tuple2) {\n",
    "        var x =  ID_with_avg_ratings;\n",
    "        var coutAvg = ID_with_avg_ratings._2();\n",
    "        return new Tuple2(ID_with_avg_ratings._1(), coutAvg._1()); // movieID, rating count\n",
    "\n",
    "\n",
    "}, [Tuple2]);\n",
    "\n",
    "JSON.stringify(\"movie_ID_with_avg_ratings_RDD  \" + movie_ID_with_avg_ratings_RDD.take(10));"
   ]
  },
  {
   "cell_type": "markdown",
   "metadata": {},
   "source": [
    "## Rate some movies for the new user."
   ]
  },
  {
   "cell_type": "code",
   "execution_count": 12,
   "metadata": {
    "collapsed": false
   },
   "outputs": [
    {
     "data": {
      "text/plain": [
       "\"New user ratings: {Rating: [0,260,9]},{Rating: [0,1,8]},{Rating: [0,16,7]},{Rating: [0,25,8]},{Rating: [0,32,9]},{Rating: [0,335,4]},{Rating: [0,379,3]},{Rating: [0,296,7]},{Rating: [0,858,10]},{Rating: [0,50,8]}\""
      ]
     },
     "execution_count": 12,
     "metadata": {},
     "output_type": "execute_result"
    }
   ],
   "source": [
    "\n",
    "var new_user_ID = 0;\n",
    "\n",
    "// The format of each line is (userID, movieID, rating)\n",
    "var new_user_ratings = [\n",
    "    new Rating(0, 260, 9), // Star Wars (1977)\n",
    "    new Rating(0, 1, 8), // Toy Story (1995)\n",
    "    new Rating(0, 16, 7), // Casino (1995)\n",
    "    new Rating(0, 25, 8), // Leaving Las Vegas (1995)\n",
    "    new Rating(0, 32, 9), // Twelve Monkeys (a.k.a. 12 Monkeys) (1995)\n",
    "    new Rating(0, 335, 4), // Flintstones, The (1994)\n",
    "    new Rating(0, 379, 3), // Timecop (1994)\n",
    "    new Rating(0, 296, 7), // Pulp Fiction (1994)\n",
    "    new Rating(0, 858, 10), // Godfather, The (1972)\n",
    "    new Rating(0, 50, 8) // Usual Suspects, The (1995)\n",
    "];\n",
    "var new_user_ratings_RDD = sc.parallelize(new_user_ratings);\n",
    "JSON.stringify(\"New user ratings: \" + new_user_ratings_RDD.take(10));"
   ]
  },
  {
   "cell_type": "markdown",
   "metadata": {},
   "source": [
    "## Add them to the data we will use to train our recommender model."
   ]
  },
  {
   "cell_type": "code",
   "execution_count": 13,
   "metadata": {
    "collapsed": false
   },
   "outputs": [
    {
     "name": "stdout",
     "output_type": "stream",
     "text": [
      "[Stage 773:============================>                            (1 + 1) / 2]"
     ]
    },
    {
     "data": {
      "text/plain": [
       "new_user_recommendations_rating_title_and_count_RDD 10315"
      ]
     },
     "execution_count": 13,
     "metadata": {},
     "output_type": "execute_result"
    }
   ],
   "source": [
    "\n",
    "var complete_data_with_new_ratings_RDD = complete_ratings_data.union(new_user_ratings_RDD);\n",
    "\n",
    "\n",
    "var new_ratings_model = \n",
    "    ALS.train(complete_data_with_new_ratings_RDD, best_rank, \n",
    "              iterations, regularization_parameter, blocks, seed);\n",
    "\n",
    "/*\n",
    " Let's now get some recommendations\n",
    " */\n",
    "\n",
    "//  get just movie IDs\n",
    "var new_user_ratings_ids = [];\n",
    "for (var i = 0; i < new_user_ratings.length; i++) {\n",
    "    new_user_ratings_ids.push(new_user_ratings[i].product());\n",
    "}\n",
    "\n",
    "// keep just those not on the ID list\n",
    "var new_user_unrated_movies_RDD = complete_movies_data.filter(function( tuple, new_user_ratings_ids) {\n",
    "        if (new_user_ratings_ids.indexOf(tuple._1()) < 0) {\n",
    "            return true;\n",
    "        } else {\n",
    "            return false;\n",
    "        }\n",
    "}, [new_user_ratings_ids])\n",
    ".map(function( tuple, new_user_ID, Tuple2) {\n",
    "        return new Tuple2(new_user_ID, tuple._1());\n",
    "\n",
    "}, [new_user_ID, Tuple2]);\n",
    "// Use the input RDD, new_user_unrated_movies_RDD, \n",
    "//with new_ratings_model.predictAll() to predict new ratings for the movies\n",
    "var new_user_recommendations_RDD = new_ratings_model.predict(new_user_unrated_movies_RDD);\n",
    "\n",
    "// Transform new_user_recommendations_RDD into pairs of the form (Movie ID, Predicted Rating)\n",
    "var new_user_recommendations_rating_RDD = new_user_recommendations_RDD.mapToPair( function( rating, Tuple2) {\n",
    "        return new Tuple2(rating.product(), rating.rating());\n",
    "\n",
    "}, [Tuple2]);\n",
    "var aRDD = new_user_recommendations_rating_RDD.join(complete_movies_titles);\n",
    "\n",
    "var new_user_recommendations_rating_title_and_count_RDD =\n",
    "    /*new_user_recommendations_rating_RDD.join(complete_movies_titles)*/ aRDD.join(movie_rating_counts_RDD);\n",
    "\n",
    "\"new_user_recommendations_rating_title_and_count_RDD \" + new_user_recommendations_rating_title_and_count_RDD.count();"
   ]
  },
  {
   "cell_type": "markdown",
   "metadata": {},
   "source": [
    "## Flatten the RDD\n",
    "we need to flat this down a bit in order to have (Title, Rating, Ratings Count)."
   ]
  },
  {
   "cell_type": "code",
   "execution_count": 15,
   "metadata": {
    "collapsed": false
   },
   "outputs": [
    {
     "data": {
      "text/plain": [
       "\"new_user_recommendations_rating_title_and_count_RDD2(Shackleton's Antarctic Adventure (2001),7.553736917670094,1.0),(\\\"Call of Cthulhu,8.860291348428946,2.0),(RV (2006),2.476218985783453,4.0)\""
      ]
     },
     "execution_count": 15,
     "metadata": {},
     "output_type": "execute_result"
    }
   ],
   "source": [
    "\n",
    "var new_user_recommendations_rating_title_and_count_RDD2 =\n",
    "    new_user_recommendations_rating_title_and_count_RDD.map(function( t, Tuple3) {\n",
    "        // ( 27456,( (7.553736917670094,Shackleton's Antarctic Adventure (2001) ),1) )\n",
    "        // a = (27456, b)\n",
    "        var a = /*(Tuple2)*/ t;\n",
    "        // b = ( c ,1)\n",
    "        var b = /*(Tuple2)*/ a._2();\n",
    "        // c = (7.553736917670094,Shackleton's Antarctic Adventure (2001) )\n",
    "        var c = /*(Tuple2)*/ b._1();\n",
    "        var x = new Tuple3(c._2(), c._1(), b._2());\n",
    "        return x;\n",
    "\n",
    "}, [Tuple3]);\n",
    "\n",
    "JSON.stringify(\"new_user_recommendations_rating_title_and_count_RDD2\" +\n",
    "               new_user_recommendations_rating_title_and_count_RDD2.take(3));\n"
   ]
  },
  {
   "cell_type": "markdown",
   "metadata": {},
   "source": [
    "## Get highest rated recommendations\n",
    " Finally, get the highest rated recommendations for the new user, filtering out movies with less than 25 ratings."
   ]
  },
  {
   "cell_type": "code",
   "execution_count": 18,
   "metadata": {
    "collapsed": false
   },
   "outputs": [
    {
     "name": "stdout",
     "output_type": "stream",
     "text": [
      "\r",
      "[Stage 1046:>                                                       (0 + 8) / 8]"
     ]
    },
    {
     "data": {
      "text/plain": [
       "TOP recommended movies (with more than 25 reviews):\n",
       "\n",
       "\"Fearless Vampire Killers average rating 9.874933767342823 number of ratings 2\n",
       "Kiss Me Kate (1953) average rating 9.80260666554117 number of ratings 4\n",
       "Brief Encounter (1946) average rating 9.796069504146462 number of ratings 3\n",
       "Divided We Fall (Musíme si pomáhat) (2000) average rating 9.687255770449784 number of ratings 2\n",
       "Head-On (Gegen die Wand) (2004) average rating 9.656509401777104 number of ratings 2\n",
       "I Love You to Death (1990) average rating 9.612578645889137 number of ratings 2\n",
       "Schizopolis (1996) average rating 9.549092419202488 number of ratings 2\n",
       "Beautiful People (1999) average rating 9.531010833971797 number of ratings 1\n",
       "\"Angel at My Table average rating 9.531010833971797 number of ratings 1\n",
       "Waiting for 'Superman' (2010) average rating 9.489279715244876 number of ratings 1\n",
       "Forbidden Zone (1980) average rating 9.480349116945936 number of ratings 1\n",
       "Symbol (Shinboru) (2009) average rating 9.480349116945936 number of ratings 1\n",
       "Love Exposure (Ai No Mukidashi) (2008) average rating 9.480349116945936 number of ratings 1\n",
       "Superman/Batman: Public Enemies (2009) average rating 9.434496335304912 number of ratings 1\n",
       "Libeled Lady (1936) average rating 9.429480504849582 number of ratings 2\n",
       "\"Mask of Fu Manchu average rating 9.424347203626446 number of ratings 2\n",
       "Into the Night (1985) average rating 9.405128631708356 number of ratings 2\n",
       "Genghis Blues (1999) average rating 9.401690335919893 number of ratings 1\n",
       "Teddy Bear (Mis) (1981) average rating 9.367685546112465 number of ratings 1\n",
       "Never Let Me Go (2010) average rating 9.361165318390448 number of ratings 2\n",
       "Shivers (They Came from Within) (1975) average rating 9.355768372714103 number of ratings 1\n",
       "Memories (Memorîzu) (1995) average rating 9.354626030100915 number of ratings 2\n",
       "From One Second to the Next (2013) average rating 9.34968021987239 number of ratings 1\n",
       "Recount (2008) average rating 9.34968021987239 number of ratings 1\n",
       "Fireworks (Hana-bi) (1997) average rating 9.3422313483661 number of ratings 5\n"
      ]
     },
     "execution_count": 18,
     "metadata": {},
     "output_type": "execute_result"
    }
   ],
   "source": [
    "\n",
    "var new_user_recommendations_rating_title_and_count_RDD2_filtered =\n",
    "    new_user_recommendations_rating_title_and_count_RDD2.filter(function( tuple3) {\n",
    "        if (tuple3[2] < 25) {\n",
    "            return false;\n",
    "        } else {\n",
    "            return true;\n",
    "        }\n",
    "    });\n",
    "\n",
    "/*\n",
    "list top 25\n",
    " */\n",
    "\n",
    "var top_movies = new_user_recommendations_rating_title_and_count_RDD2_filtered.takeOrdered(25,\n",
    "   function(tuple3_a, tuple3_b){\n",
    "\n",
    "        var aRate = tuple3_a._2();\n",
    "        var bRate = tuple3_b._2();\n",
    "        return aRate > bRate ? -1 : aRate == bRate? 0 : 1;\n",
    "\n",
    "});\n",
    "var str = \"TOP recommended movies (with more than 25 reviews):\\n\\n\";\n",
    "\n",
    "for (var i = 0; i < top_movies.length; i++) {\n",
    "    str += top_movies[i]._1() + \" average rating \" + top_movies[i]._2() + \" number of ratings \" + top_movies[i]._3() + \"\\n\";\n",
    "}\n",
    "\n",
    "\n"
   ]
  },
  {
   "cell_type": "markdown",
   "metadata": {},
   "source": [
    "## Predicted rating for a particular movie for a given user."
   ]
  },
  {
   "cell_type": "code",
   "execution_count": 20,
   "metadata": {
    "collapsed": false
   },
   "outputs": [
    {
     "data": {
      "text/plain": [
       "Predicted rating for movie {Rating: [0,500,5.534481054561288]}"
      ]
     },
     "execution_count": 20,
     "metadata": {},
     "output_type": "execute_result"
    }
   ],
   "source": [
    "\n",
    "var my_movie = sc.parallelizePairs([new Tuple2(0, 500)]); // Quiz Show (1994)\n",
    "var individual_movie_rating_RDD = new_ratings_model.predict(my_movie);\n",
    "\n",
    "\"Predicted rating for movie \" + individual_movie_rating_RDD.take(1);"
   ]
  },
  {
   "cell_type": "code",
   "execution_count": null,
   "metadata": {
    "collapsed": true
   },
   "outputs": [],
   "source": []
  }
 ],
 "metadata": {
  "kernelspec": {
   "display_name": "Spark 1.6.0 (EclairJS)",
   "language": "javascript",
   "name": "eclairjs"
  },
  "language_info": {
   "name": "scala"
  }
 },
 "nbformat": 4,
 "nbformat_minor": 0
}
